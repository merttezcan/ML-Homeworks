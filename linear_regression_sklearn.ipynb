{
  "nbformat": 4,
  "nbformat_minor": 0,
  "metadata": {
    "colab": {
      "name": "bostonwithsklearn.ipynb",
      "provenance": [],
      "authorship_tag": "ABX9TyOTjtEEBkF3HPoEC8zVGeld",
      "include_colab_link": true
    },
    "kernelspec": {
      "name": "python3",
      "display_name": "Python 3"
    }
  },
  "cells": [
    {
      "cell_type": "markdown",
      "metadata": {
        "id": "view-in-github",
        "colab_type": "text"
      },
      "source": [
        "<a href=\"https://colab.research.google.com/github/merttezcan/ML-Homeworks/blob/main/linear_regression_sklearn.ipynb\" target=\"_parent\"><img src=\"https://colab.research.google.com/assets/colab-badge.svg\" alt=\"Open In Colab\"/></a>"
      ]
    },
    {
      "cell_type": "code",
      "metadata": {
        "id": "6RwK74DQM5fm"
      },
      "source": [
        "import numpy as np\n",
        "import pandas as pd\n",
        "import matplotlib.pyplot as plt\n",
        "import scipy.stats as stats\n",
        "import matplotlib.pyplot as plt\n",
        "from sklearn.model_selection import train_test_split\n",
        "import sklearn\n",
        "import statsmodels.api as sm\n",
        "from matplotlib import rcParams\n",
        "import csv\n",
        "from sklearn.datasets.base import Bunch\n",
        "from sklearn.linear_model import LinearRegression"
      ],
      "execution_count": null,
      "outputs": []
    },
    {
      "cell_type": "code",
      "metadata": {
        "id": "1wx2lb1LOBC0"
      },
      "source": [
        "def load_my_dataset():\n",
        "    with open('boston_house_prices-rev.csv') as csv_file:\n",
        "        data_file = csv.reader(csv_file)\n",
        "        temp = next(data_file)\n",
        "        n_samples = 506\n",
        "        n_features = 13\n",
        "        feature_names = ['CRIM','ZN','INDUS','CHAS','NOX','RM','AGE','DIS','RAD','TAX','PTRATIO','B','LSTAT'] \n",
        "        target_names = ['MEDVx1000USD']\n",
        "        data = np.empty((n_samples, n_features))\n",
        "        target = np.empty((n_samples,), dtype=np.int)\n",
        "\n",
        "        for i, sample in enumerate(data_file):\n",
        "            data[i] = np.asarray(sample[:-1], dtype=np.float64)\n",
        "            target[i] = np.asarray(sample[-1], dtype=np.float64)\n",
        "\n",
        "    return Bunch(data=data, target=target, feature_names = feature_names, target_names = target_names)\n",
        "\n",
        "price_data = load_my_dataset()"
      ],
      "execution_count": null,
      "outputs": []
    },
    {
      "cell_type": "code",
      "metadata": {
        "id": "GnBnZsaWQWBG",
        "outputId": "50c7aa09-2857-419e-b8b5-e4f3b5fc02ef",
        "colab": {
          "base_uri": "https://localhost:8080/",
          "height": 34
        }
      },
      "source": [
        "print(price_data.keys())"
      ],
      "execution_count": null,
      "outputs": [
        {
          "output_type": "stream",
          "text": [
            "dict_keys(['data', 'target', 'feature_names', 'target_names'])\n"
          ],
          "name": "stdout"
        }
      ]
    },
    {
      "cell_type": "code",
      "metadata": {
        "id": "5nG8Krh1QXS3",
        "outputId": "b54a0dd6-b626-4e19-9b61-095c1a7ae371",
        "colab": {
          "base_uri": "https://localhost:8080/",
          "height": 34
        }
      },
      "source": [
        "print(price_data.data.shape)"
      ],
      "execution_count": null,
      "outputs": [
        {
          "output_type": "stream",
          "text": [
            "(506, 13)\n"
          ],
          "name": "stdout"
        }
      ]
    },
    {
      "cell_type": "code",
      "metadata": {
        "id": "KLmpW2EZQgkp",
        "outputId": "45095454-5e59-4836-a4b6-3b854f230a9e",
        "colab": {
          "base_uri": "https://localhost:8080/",
          "height": 54
        }
      },
      "source": [
        "print(price_data.feature_names)"
      ],
      "execution_count": null,
      "outputs": [
        {
          "output_type": "stream",
          "text": [
            "['CRIM', 'ZN', 'INDUS', 'CHAS', 'NOX', 'RM', 'AGE', 'DIS', 'RAD', 'TAX', 'PTRATIO', 'B', 'LSTAT']\n"
          ],
          "name": "stdout"
        }
      ]
    },
    {
      "cell_type": "code",
      "metadata": {
        "id": "0vXqvFM5QoHU",
        "outputId": "07ad4ab7-f495-43e3-dd5b-fa417de1dcbe",
        "colab": {
          "base_uri": "https://localhost:8080/",
          "height": 153
        }
      },
      "source": [
        "boston = pd.DataFrame(price_data.data)\n",
        "print(boston.head())"
      ],
      "execution_count": null,
      "outputs": [
        {
          "output_type": "stream",
          "text": [
            "        0     1     2    3      4   ...   8      9     10      11    12\n",
            "0  0.00632  18.0  2.31  0.0  0.538  ...  1.0  296.0  15.3  396.90  4.98\n",
            "1  0.02731   0.0  7.07  0.0  0.469  ...  2.0  242.0  17.8  396.90  9.14\n",
            "2  0.02729   0.0  7.07  0.0  0.469  ...  2.0  242.0  17.8  392.83  4.03\n",
            "3  0.03237   0.0  2.18  0.0  0.458  ...  3.0  222.0  18.7  394.63  2.94\n",
            "4  0.06905   0.0  2.18  0.0  0.458  ...  3.0  222.0  18.7  396.90  5.33\n",
            "\n",
            "[5 rows x 13 columns]\n"
          ],
          "name": "stdout"
        }
      ]
    },
    {
      "cell_type": "code",
      "metadata": {
        "id": "inlVhabzQ3AR",
        "outputId": "cc6cd568-6167-43da-9a0a-2982347ee7cc",
        "colab": {
          "base_uri": "https://localhost:8080/",
          "height": 153
        }
      },
      "source": [
        "boston.columns = price_data.feature_names\n",
        "print(boston.head())"
      ],
      "execution_count": null,
      "outputs": [
        {
          "output_type": "stream",
          "text": [
            "      CRIM    ZN  INDUS  CHAS    NOX  ...  RAD    TAX  PTRATIO       B  LSTAT\n",
            "0  0.00632  18.0   2.31   0.0  0.538  ...  1.0  296.0     15.3  396.90   4.98\n",
            "1  0.02731   0.0   7.07   0.0  0.469  ...  2.0  242.0     17.8  396.90   9.14\n",
            "2  0.02729   0.0   7.07   0.0  0.469  ...  2.0  242.0     17.8  392.83   4.03\n",
            "3  0.03237   0.0   2.18   0.0  0.458  ...  3.0  222.0     18.7  394.63   2.94\n",
            "4  0.06905   0.0   2.18   0.0  0.458  ...  3.0  222.0     18.7  396.90   5.33\n",
            "\n",
            "[5 rows x 13 columns]\n"
          ],
          "name": "stdout"
        }
      ]
    },
    {
      "cell_type": "code",
      "metadata": {
        "id": "A6Z4HnvBQ5av",
        "outputId": "2ee19613-a752-43a2-c7fb-6becb26c9f87",
        "colab": {
          "base_uri": "https://localhost:8080/",
          "height": 34
        }
      },
      "source": [
        "print(price_data.target.shape)"
      ],
      "execution_count": null,
      "outputs": [
        {
          "output_type": "stream",
          "text": [
            "(506,)\n"
          ],
          "name": "stdout"
        }
      ]
    },
    {
      "cell_type": "code",
      "metadata": {
        "id": "5qGdDmhHQ9S3",
        "outputId": "717e03ea-1406-488c-8a3c-f7cc7c4c1c84",
        "colab": {
          "base_uri": "https://localhost:8080/",
          "height": 153
        }
      },
      "source": [
        "boston['PRICE'] = price_data.target\n",
        "print(boston.head())"
      ],
      "execution_count": null,
      "outputs": [
        {
          "output_type": "stream",
          "text": [
            "      CRIM    ZN  INDUS  CHAS    NOX  ...    TAX  PTRATIO       B  LSTAT  PRICE\n",
            "0  0.00632  18.0   2.31   0.0  0.538  ...  296.0     15.3  396.90   4.98     24\n",
            "1  0.02731   0.0   7.07   0.0  0.469  ...  242.0     17.8  396.90   9.14     21\n",
            "2  0.02729   0.0   7.07   0.0  0.469  ...  242.0     17.8  392.83   4.03     34\n",
            "3  0.03237   0.0   2.18   0.0  0.458  ...  222.0     18.7  394.63   2.94     33\n",
            "4  0.06905   0.0   2.18   0.0  0.458  ...  222.0     18.7  396.90   5.33     36\n",
            "\n",
            "[5 rows x 14 columns]\n"
          ],
          "name": "stdout"
        }
      ]
    },
    {
      "cell_type": "code",
      "metadata": {
        "id": "R84XerIcRCQ3",
        "outputId": "eddd3d20-eab2-43d7-faa9-949590286c75",
        "colab": {
          "base_uri": "https://localhost:8080/",
          "height": 204
        }
      },
      "source": [
        "print(boston.describe())"
      ],
      "execution_count": null,
      "outputs": [
        {
          "output_type": "stream",
          "text": [
            "             CRIM          ZN       INDUS  ...           B       LSTAT       PRICE\n",
            "count  506.000000  506.000000  506.000000  ...  506.000000  506.000000  506.000000\n",
            "mean     3.613524   11.363636   11.136779  ...  356.674032   12.653063   22.114625\n",
            "std      8.601545   23.322453    6.860353  ...   91.294864    7.141062    9.241893\n",
            "min      0.006320    0.000000    0.460000  ...    0.320000    1.730000    5.000000\n",
            "25%      0.082045    0.000000    5.190000  ...  375.377500    6.950000   17.000000\n",
            "50%      0.256510    0.000000    9.690000  ...  391.440000   11.360000   21.000000\n",
            "75%      3.677083   12.500000   18.100000  ...  396.225000   16.955000   25.000000\n",
            "max     88.976200  100.000000   27.740000  ...  396.900000   37.970000   50.000000\n",
            "\n",
            "[8 rows x 14 columns]\n"
          ],
          "name": "stdout"
        }
      ]
    },
    {
      "cell_type": "code",
      "metadata": {
        "id": "upusHpHpRjKy"
      },
      "source": [
        "X = boston.drop('PRICE', axis = 1)\n",
        "Y = boston['PRICE']"
      ],
      "execution_count": null,
      "outputs": []
    },
    {
      "cell_type": "code",
      "metadata": {
        "id": "tLaTZX64RqeM",
        "outputId": "a59981cd-95a1-4388-f4f3-7b80b5215b40",
        "colab": {
          "base_uri": "https://localhost:8080/",
          "height": 85
        }
      },
      "source": [
        "X_train, X_test, Y_train, Y_test = sklearn.model_selection.train_test_split(X, Y, test_size = 0.2, random_state = 5)\n",
        "print(X_train.shape)\n",
        "print(X_test.shape)\n",
        "print(Y_train.shape)\n",
        "print(Y_test.shape)"
      ],
      "execution_count": null,
      "outputs": [
        {
          "output_type": "stream",
          "text": [
            "(404, 13)\n",
            "(102, 13)\n",
            "(404,)\n",
            "(102,)\n"
          ],
          "name": "stdout"
        }
      ]
    },
    {
      "cell_type": "code",
      "metadata": {
        "id": "5EH_0dNKSI54",
        "outputId": "61b0f25d-cdfe-410b-d921-32dfd6b389ef",
        "colab": {
          "base_uri": "https://localhost:8080/",
          "height": 346
        }
      },
      "source": [
        "lm = LinearRegression()\n",
        "lm.fit(X_train, Y_train)\n",
        "Y_pred = lm.predict(X_test)\n",
        "\n",
        "plt.scatter(Y_test, Y_pred)\n",
        "plt.xlabel(\"Prices\")\n",
        "plt.ylabel(\"Predicted prices\")\n",
        "plt.title(\"Prices vs Predicted prices\")\n",
        "from sklearn.metrics import mean_squared_error, r2_score\n",
        "print(\"Testing accuracy: \", lm.score(X_test, Y_test)*100)\n",
        "print(\"Model accuracy: \", r2_score(Y, lm.predict(X))*100)\n",
        "print(\"MSE: \", sklearn.metrics.mean_squared_error(Y_test, Y_pred))"
      ],
      "execution_count": null,
      "outputs": [
        {
          "output_type": "stream",
          "text": [
            "Testing accuracy:  73.16234660398293\n",
            "Model accuracy:  73.61120867980134\n",
            "MSE:  21.03510715849913\n"
          ],
          "name": "stdout"
        },
        {
          "output_type": "display_data",
          "data": {
            "image/png": "[encoded data removed]",
            "text/plain": [
              "<Figure size 432x288 with 1 Axes>"
            ]
          },
          "metadata": {
            "tags": [],
            "needs_background": "light"
          }
        }
      ]
    }
  ]
}