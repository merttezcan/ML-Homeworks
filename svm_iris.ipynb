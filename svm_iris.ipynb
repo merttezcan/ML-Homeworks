{
  "nbformat": 4,
  "nbformat_minor": 0,
  "metadata": {
    "colab": {
      "name": "svm_iris.ipynb",
      "provenance": [],
      "authorship_tag": "ABX9TyPT2ZR3ojtLdBSY66GkFEE6",
      "include_colab_link": true
    },
    "kernelspec": {
      "name": "python3",
      "display_name": "Python 3"
    }
  },
  "cells": [
    {
      "cell_type": "markdown",
      "metadata": {
        "id": "view-in-github",
        "colab_type": "text"
      },
      "source": [
        "<a href=\"https://colab.research.google.com/github/merttezcan/ML-Homeworks/blob/main/svm_iris.ipynb\" target=\"_parent\"><img src=\"https://colab.research.google.com/assets/colab-badge.svg\" alt=\"Open In Colab\"/></a>"
      ]
    },
    {
      "cell_type": "code",
      "metadata": {
        "id": "K6bT4dcopUlT"
      },
      "source": [
        "import numpy as np\r\n",
        "import pandas as pd\r\n",
        "from sklearn import datasets\r\n",
        "from sklearn.svm import SVC\r\n",
        "\r\n",
        "\r\n",
        "iris = datasets.load_iris()\r\n",
        "from sklearn.model_selection import train_test_split\r\n",
        "X = iris.data\r\n",
        "y = iris.target\r\n",
        "X_train,X_test, y_train, y_test=train_test_split(X,y,test_size=0.30)\r\n",
        "C = 1\r\n",
        "\r\n",
        "gammas = [0.1, 1, 10, 100]"
      ],
      "execution_count": null,
      "outputs": []
    },
    {
      "cell_type": "code",
      "metadata": {
        "colab": {
          "base_uri": "https://localhost:8080/"
        },
        "id": "Ys61UBk917xM",
        "outputId": "c01dcb5c-b527-4e79-e8e6-01b36b25eb51"
      },
      "source": [
        "linear_svc = SVC(kernel='linear', C=C)\r\n",
        "linear_svc.fit(X_train, y_train)"
      ],
      "execution_count": null,
      "outputs": [
        {
          "output_type": "execute_result",
          "data": {
            "text/plain": [
              "SVC(C=1, break_ties=False, cache_size=200, class_weight=None, coef0=0.0,\n",
              "    decision_function_shape='ovr', degree=3, gamma='scale', kernel='linear',\n",
              "    max_iter=-1, probability=False, random_state=None, shrinking=True,\n",
              "    tol=0.001, verbose=False)"
            ]
          },
          "metadata": {
            "tags": []
          },
          "execution_count": 220
        }
      ]
    },
    {
      "cell_type": "code",
      "metadata": {
        "id": "cru3RWhJ1_ru"
      },
      "source": [
        "pred=linear_svc.predict(X_test)"
      ],
      "execution_count": null,
      "outputs": []
    },
    {
      "cell_type": "code",
      "metadata": {
        "colab": {
          "base_uri": "https://localhost:8080/"
        },
        "id": "4lj9D_GX2jYi",
        "outputId": "f686a625-3177-4177-c7de-e28af2bd1240"
      },
      "source": [
        "from sklearn.metrics import classification_report, confusion_matrix\r\n",
        "print(confusion_matrix(y_test,pred))\r\n",
        "print(classification_report(y_test, pred))"
      ],
      "execution_count": null,
      "outputs": [
        {
          "output_type": "stream",
          "text": [
            "[[16  0  0]\n",
            " [ 0 12  0]\n",
            " [ 0  2 15]]\n",
            "              precision    recall  f1-score   support\n",
            "\n",
            "           0       1.00      1.00      1.00        16\n",
            "           1       0.86      1.00      0.92        12\n",
            "           2       1.00      0.88      0.94        17\n",
            "\n",
            "    accuracy                           0.96        45\n",
            "   macro avg       0.95      0.96      0.95        45\n",
            "weighted avg       0.96      0.96      0.96        45\n",
            "\n"
          ],
          "name": "stdout"
        }
      ]
    },
    {
      "cell_type": "code",
      "metadata": {
        "colab": {
          "base_uri": "https://localhost:8080/"
        },
        "id": "ZEGa602m2djZ",
        "outputId": "6027613d-03a2-45d5-e3b6-45d1fac6afd2"
      },
      "source": [
        "for gamma in gammas:\r\n",
        "  rbf_svc = SVC(kernel='rbf', gamma = gamma, C=C)\r\n",
        "  rbf_svc.fit(X_train, y_train)\r\n",
        "  pred=rbf_svc.predict(X_test)\r\n",
        "  \r\n",
        "  print(confusion_matrix(y_test,pred))\r\n",
        "  print(classification_report(y_test, pred))\r\n",
        "  print(\"with gamma\", gamma)\r\n",
        "  print(\"----------------------------------\")"
      ],
      "execution_count": null,
      "outputs": [
        {
          "output_type": "stream",
          "text": [
            "[[16  0  0]\n",
            " [ 0 12  0]\n",
            " [ 0  4 13]]\n",
            "              precision    recall  f1-score   support\n",
            "\n",
            "           0       1.00      1.00      1.00        16\n",
            "           1       0.75      1.00      0.86        12\n",
            "           2       1.00      0.76      0.87        17\n",
            "\n",
            "    accuracy                           0.91        45\n",
            "   macro avg       0.92      0.92      0.91        45\n",
            "weighted avg       0.93      0.91      0.91        45\n",
            "\n",
            "with gamma 0.1\n",
            "----------------------------------\n",
            "[[16  0  0]\n",
            " [ 0 12  0]\n",
            " [ 0  3 14]]\n",
            "              precision    recall  f1-score   support\n",
            "\n",
            "           0       1.00      1.00      1.00        16\n",
            "           1       0.80      1.00      0.89        12\n",
            "           2       1.00      0.82      0.90        17\n",
            "\n",
            "    accuracy                           0.93        45\n",
            "   macro avg       0.93      0.94      0.93        45\n",
            "weighted avg       0.95      0.93      0.93        45\n",
            "\n",
            "with gamma 1\n",
            "----------------------------------\n",
            "[[14  0  2]\n",
            " [ 0 11  1]\n",
            " [ 0  1 16]]\n",
            "              precision    recall  f1-score   support\n",
            "\n",
            "           0       1.00      0.88      0.93        16\n",
            "           1       0.92      0.92      0.92        12\n",
            "           2       0.84      0.94      0.89        17\n",
            "\n",
            "    accuracy                           0.91        45\n",
            "   macro avg       0.92      0.91      0.91        45\n",
            "weighted avg       0.92      0.91      0.91        45\n",
            "\n",
            "with gamma 10\n",
            "----------------------------------\n",
            "[[ 5 11  0]\n",
            " [ 0 12  0]\n",
            " [ 0 14  3]]\n",
            "              precision    recall  f1-score   support\n",
            "\n",
            "           0       1.00      0.31      0.48        16\n",
            "           1       0.32      1.00      0.49        12\n",
            "           2       1.00      0.18      0.30        17\n",
            "\n",
            "    accuracy                           0.44        45\n",
            "   macro avg       0.77      0.50      0.42        45\n",
            "weighted avg       0.82      0.44      0.41        45\n",
            "\n",
            "with gamma 100\n",
            "----------------------------------\n"
          ],
          "name": "stdout"
        }
      ]
    },
    {
      "cell_type": "code",
      "metadata": {
        "colab": {
          "base_uri": "https://localhost:8080/"
        },
        "id": "qJulqi1URSu9",
        "outputId": "41ff7056-2042-4b3a-e66a-395222a73f48"
      },
      "source": [
        "for gamma in gammas:\r\n",
        "  poly_svc = SVC(kernel='poly', gamma = gamma, C=C)\r\n",
        "  poly_svc.fit(X_train, y_train)\r\n",
        "  pred=poly_svc.predict(X_test)\r\n",
        "  \r\n",
        "  print(confusion_matrix(y_test,pred))\r\n",
        "  print(classification_report(y_test, pred))\r\n",
        "  print(\"with gamma\", gamma)\r\n",
        "  print(\"----------------------------------\")"
      ],
      "execution_count": null,
      "outputs": [
        {
          "output_type": "stream",
          "text": [
            "[[16  0  0]\n",
            " [ 0 12  0]\n",
            " [ 0  3 14]]\n",
            "              precision    recall  f1-score   support\n",
            "\n",
            "           0       1.00      1.00      1.00        16\n",
            "           1       0.80      1.00      0.89        12\n",
            "           2       1.00      0.82      0.90        17\n",
            "\n",
            "    accuracy                           0.93        45\n",
            "   macro avg       0.93      0.94      0.93        45\n",
            "weighted avg       0.95      0.93      0.93        45\n",
            "\n",
            "with gamma 0.1\n",
            "----------------------------------\n",
            "[[16  0  0]\n",
            " [ 0 11  1]\n",
            " [ 0  2 15]]\n",
            "              precision    recall  f1-score   support\n",
            "\n",
            "           0       1.00      1.00      1.00        16\n",
            "           1       0.85      0.92      0.88        12\n",
            "           2       0.94      0.88      0.91        17\n",
            "\n",
            "    accuracy                           0.93        45\n",
            "   macro avg       0.93      0.93      0.93        45\n",
            "weighted avg       0.94      0.93      0.93        45\n",
            "\n",
            "with gamma 1\n",
            "----------------------------------\n",
            "[[16  0  0]\n",
            " [ 0 11  1]\n",
            " [ 0  2 15]]\n",
            "              precision    recall  f1-score   support\n",
            "\n",
            "           0       1.00      1.00      1.00        16\n",
            "           1       0.85      0.92      0.88        12\n",
            "           2       0.94      0.88      0.91        17\n",
            "\n",
            "    accuracy                           0.93        45\n",
            "   macro avg       0.93      0.93      0.93        45\n",
            "weighted avg       0.94      0.93      0.93        45\n",
            "\n",
            "with gamma 10\n",
            "----------------------------------\n",
            "[[16  0  0]\n",
            " [ 0 11  1]\n",
            " [ 0  2 15]]\n",
            "              precision    recall  f1-score   support\n",
            "\n",
            "           0       1.00      1.00      1.00        16\n",
            "           1       0.85      0.92      0.88        12\n",
            "           2       0.94      0.88      0.91        17\n",
            "\n",
            "    accuracy                           0.93        45\n",
            "   macro avg       0.93      0.93      0.93        45\n",
            "weighted avg       0.94      0.93      0.93        45\n",
            "\n",
            "with gamma 100\n",
            "----------------------------------\n"
          ],
          "name": "stdout"
        }
      ]
    },
    {
      "cell_type": "code",
      "metadata": {
        "colab": {
          "base_uri": "https://localhost:8080/"
        },
        "id": "8mi4aY-8-FQ7",
        "outputId": "d6b7b3f6-f400-48d3-b0f3-6f8b8df92c71"
      },
      "source": [
        "for gamma in gammas:\r\n",
        "  sigmoid_svc = SVC(kernel='sigmoid', gamma = gamma, C=10)\r\n",
        "  sigmoid_svc.fit(X_train, y_train)\r\n",
        "  pred=sigmoid_svc.predict(X_test)\r\n",
        "  \r\n",
        "  print(confusion_matrix(y_test,pred))\r\n",
        "  print(classification_report(y_test, pred))\r\n",
        "  print(\"with gamma\", gamma)\r\n",
        "  print(\"----------------------------------\")"
      ],
      "execution_count": null,
      "outputs": [
        {
          "output_type": "stream",
          "text": [
            "[[ 0 16  0]\n",
            " [ 0 12  0]\n",
            " [ 0 17  0]]\n",
            "              precision    recall  f1-score   support\n",
            "\n",
            "           0       0.00      0.00      0.00        16\n",
            "           1       0.27      1.00      0.42        12\n",
            "           2       0.00      0.00      0.00        17\n",
            "\n",
            "    accuracy                           0.27        45\n",
            "   macro avg       0.09      0.33      0.14        45\n",
            "weighted avg       0.07      0.27      0.11        45\n",
            "\n",
            "with gamma 0.1\n",
            "----------------------------------\n",
            "[[ 0 16  0]\n",
            " [ 0 12  0]\n",
            " [ 0 17  0]]\n",
            "              precision    recall  f1-score   support\n",
            "\n",
            "           0       0.00      0.00      0.00        16\n",
            "           1       0.27      1.00      0.42        12\n",
            "           2       0.00      0.00      0.00        17\n",
            "\n",
            "    accuracy                           0.27        45\n",
            "   macro avg       0.09      0.33      0.14        45\n",
            "weighted avg       0.07      0.27      0.11        45\n",
            "\n",
            "with gamma 1\n",
            "----------------------------------\n",
            "[[ 0 16  0]\n",
            " [ 0 12  0]\n",
            " [ 0 17  0]]\n",
            "              precision    recall  f1-score   support\n",
            "\n",
            "           0       0.00      0.00      0.00        16\n",
            "           1       0.27      1.00      0.42        12\n",
            "           2       0.00      0.00      0.00        17\n",
            "\n",
            "    accuracy                           0.27        45\n",
            "   macro avg       0.09      0.33      0.14        45\n",
            "weighted avg       0.07      0.27      0.11        45\n",
            "\n",
            "with gamma 10\n",
            "----------------------------------\n",
            "[[ 0 16  0]\n",
            " [ 0 12  0]\n",
            " [ 0 17  0]]\n",
            "              precision    recall  f1-score   support\n",
            "\n",
            "           0       0.00      0.00      0.00        16\n",
            "           1       0.27      1.00      0.42        12\n",
            "           2       0.00      0.00      0.00        17\n",
            "\n",
            "    accuracy                           0.27        45\n",
            "   macro avg       0.09      0.33      0.14        45\n",
            "weighted avg       0.07      0.27      0.11        45\n",
            "\n",
            "with gamma 100\n",
            "----------------------------------\n"
          ],
          "name": "stdout"
        },
        {
          "output_type": "stream",
          "text": [
            "/usr/local/lib/python3.6/dist-packages/sklearn/metrics/_classification.py:1272: UndefinedMetricWarning: Precision and F-score are ill-defined and being set to 0.0 in labels with no predicted samples. Use `zero_division` parameter to control this behavior.\n",
            "  _warn_prf(average, modifier, msg_start, len(result))\n",
            "/usr/local/lib/python3.6/dist-packages/sklearn/metrics/_classification.py:1272: UndefinedMetricWarning: Precision and F-score are ill-defined and being set to 0.0 in labels with no predicted samples. Use `zero_division` parameter to control this behavior.\n",
            "  _warn_prf(average, modifier, msg_start, len(result))\n",
            "/usr/local/lib/python3.6/dist-packages/sklearn/metrics/_classification.py:1272: UndefinedMetricWarning: Precision and F-score are ill-defined and being set to 0.0 in labels with no predicted samples. Use `zero_division` parameter to control this behavior.\n",
            "  _warn_prf(average, modifier, msg_start, len(result))\n",
            "/usr/local/lib/python3.6/dist-packages/sklearn/metrics/_classification.py:1272: UndefinedMetricWarning: Precision and F-score are ill-defined and being set to 0.0 in labels with no predicted samples. Use `zero_division` parameter to control this behavior.\n",
            "  _warn_prf(average, modifier, msg_start, len(result))\n"
          ],
          "name": "stderr"
        }
      ]
    }
  ]
}