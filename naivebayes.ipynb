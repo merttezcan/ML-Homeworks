{
  "nbformat": 4,
  "nbformat_minor": 0,
  "metadata": {
    "colab": {
      "name": "naivebayes.ipynb",
      "provenance": [],
      "authorship_tag": "ABX9TyMYYUFvGxglBUWRSkK+s5Tj",
      "include_colab_link": true
    },
    "kernelspec": {
      "name": "python3",
      "display_name": "Python 3"
    }
  },
  "cells": [
    {
      "cell_type": "markdown",
      "metadata": {
        "id": "view-in-github",
        "colab_type": "text"
      },
      "source": [
        "<a href=\"https://colab.research.google.com/github/merttezcan/ML-Homeworks/blob/main/naivebayes.ipynb\" target=\"_parent\"><img src=\"https://colab.research.google.com/assets/colab-badge.svg\" alt=\"Open In Colab\"/></a>"
      ]
    },
    {
      "cell_type": "code",
      "metadata": {
        "id": "FehZw0yHqZn7"
      },
      "source": [
        "import pandas as pd\n",
        "import numpy as np"
      ],
      "execution_count": 61,
      "outputs": []
    },
    {
      "cell_type": "code",
      "metadata": {
        "colab": {
          "base_uri": "https://localhost:8080/"
        },
        "id": "e1QnSjFJ5lly",
        "outputId": "d3f44cec-469c-4af2-fda1-bb47b61af98b"
      },
      "source": [
        "data = pd.read_csv('buy_computer.csv', sep=r'\\s*,\\s*', header=0, encoding='ascii', engine='python')\n",
        "\n",
        "age = data.groupby(['age', 'buycomputer']).size()\n",
        "income = data.groupby(['income', 'buycomputer']).size()\n",
        "student = data.groupby(['student', 'buycomputer']).size()\n",
        "credit = data.groupby(['credit', 'buycomputer']).size()\n",
        "buycomputer = data.buycomputer.value_counts()\n",
        "\n",
        "print(age)\n",
        "print('------------------')\n",
        "print(income)\n",
        "print('------------------')\n",
        "print(student)\n",
        "print('------------------')\n",
        "print(credit)\n",
        "print('------------------')\n",
        "print('buycomputer')\n",
        "print(buycomputer)\n",
        "\n",
        "num_y = buycomputer[\"yes\"]\n",
        "num_n = buycomputer[\"no\"]\n",
        "total = num_y + num_n"
      ],
      "execution_count": 62,
      "outputs": [
        {
          "output_type": "stream",
          "text": [
            "age         buycomputer\n",
            "middle_age  yes            4\n",
            "senior      no             2\n",
            "            yes            3\n",
            "youth       no             3\n",
            "            yes            2\n",
            "dtype: int64\n",
            "------------------\n",
            "income  buycomputer\n",
            "high    no             2\n",
            "        yes            2\n",
            "low     no             1\n",
            "        yes            3\n",
            "medium  no             2\n",
            "        yes            4\n",
            "dtype: int64\n",
            "------------------\n",
            "student  buycomputer\n",
            "no       no             4\n",
            "         yes            3\n",
            "yes      no             1\n",
            "         yes            6\n",
            "dtype: int64\n",
            "------------------\n",
            "credit     buycomputer\n",
            "excellent  no             3\n",
            "           yes            3\n",
            "fair       no             2\n",
            "           yes            6\n",
            "dtype: int64\n",
            "------------------\n",
            "buycomputer\n",
            "yes    9\n",
            "no     5\n",
            "Name: buycomputer, dtype: int64\n"
          ],
          "name": "stdout"
        }
      ]
    },
    {
      "cell_type": "code",
      "metadata": {
        "id": "izAV08xC5nmR"
      },
      "source": [
        "def find_probability(age_val, income_val, student_val, credit_val, buycomputer_val):\n",
        "\n",
        "  p_age_buycomputer = age[age_val][buycomputer_val]/buycomputer[buycomputer_val]\n",
        "  p_income_buycomputer = income[income_val][buycomputer_val]/buycomputer[buycomputer_val]\n",
        "  p_student_buycomputer = student[student_val][buycomputer_val]/buycomputer[buycomputer_val]\n",
        "  p_credit_buycomputer = credit[credit_val][buycomputer_val]/buycomputer[buycomputer_val]\n",
        "  p_buycomputer = buycomputer[buycomputer_val]/total\n",
        "\n",
        "  prob = p_age_buycomputer * p_income_buycomputer * p_student_buycomputer * p_credit_buycomputer * p_buycomputer\n",
        "  return prob"
      ],
      "execution_count": 63,
      "outputs": []
    },
    {
      "cell_type": "code",
      "metadata": {
        "id": "5_UlFfNp5pEM"
      },
      "source": [
        "def pred_buy(age_val, income_val, student_val, credit_val):\n",
        "  prob_yes = find_probability(age_val, income_val, student_val, credit_val, \"yes\")\n",
        "  prob_no = find_probability(age_val, income_val, student_val, credit_val, \"no\")\n",
        "\n",
        "  print(\"Probability that you should buy a computer: \", prob_yes)\n",
        "  print(\"Probability that you should not buy a computer: \", prob_no)\n",
        "\n",
        "  if prob_yes > prob_no:\n",
        "    print(\"You should buy a computer! :)\")\n",
        "  \n",
        "  else:\n",
        "    print(\"You should not buy a computer! :(\")"
      ],
      "execution_count": 64,
      "outputs": []
    },
    {
      "cell_type": "code",
      "metadata": {
        "colab": {
          "base_uri": "https://localhost:8080/"
        },
        "id": "03222C6W5rQy",
        "outputId": "00cc7861-9f32-41df-d1ed-4937471a76c2"
      },
      "source": [
        "age_value = 'youth'\n",
        "income_value = 'medium'\n",
        "student_value = 'yes'\n",
        "credit_value = 'fair'\n",
        "\n",
        "pred_buy(age_value, income_value, student_value, credit_value)"
      ],
      "execution_count": 65,
      "outputs": [
        {
          "output_type": "stream",
          "text": [
            "Probability that you should buy a computer:  0.028218694885361547\n",
            "Probability that you should not buy a computer:  0.006857142857142858\n",
            "You should buy a computer! :)\n"
          ],
          "name": "stdout"
        }
      ]
    }
  ]
}