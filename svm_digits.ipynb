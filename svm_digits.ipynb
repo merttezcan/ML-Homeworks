{
  "nbformat": 4,
  "nbformat_minor": 0,
  "metadata": {
    "colab": {
      "name": "svm_digits.ipynb",
      "provenance": [],
      "authorship_tag": "ABX9TyPp9cHX5y0Uz1mGtJPrax6J",
      "include_colab_link": true
    },
    "kernelspec": {
      "name": "python3",
      "display_name": "Python 3"
    }
  },
  "cells": [
    {
      "cell_type": "markdown",
      "metadata": {
        "id": "view-in-github",
        "colab_type": "text"
      },
      "source": [
        "<a href=\"https://colab.research.google.com/github/merttezcan/ML-Homeworks/blob/main/svm_digits.ipynb\" target=\"_parent\"><img src=\"https://colab.research.google.com/assets/colab-badge.svg\" alt=\"Open In Colab\"/></a>"
      ]
    },
    {
      "cell_type": "code",
      "metadata": {
        "id": "K6bT4dcopUlT"
      },
      "source": [
        "import numpy as np\r\n",
        "import pandas as pd\r\n",
        "from sklearn import datasets\r\n",
        "from sklearn.svm import SVC\r\n",
        "\r\n",
        "digits = datasets.load_digits()\r\n",
        "from sklearn.model_selection import train_test_split\r\n",
        "X = digits.data\r\n",
        "y = digits.target\r\n",
        "X_train,X_test, y_train, y_test=train_test_split(X,y,test_size=0.30)\r\n",
        "C = 1\r\n",
        "gammas = [0.1, 1, 10, 100]"
      ],
      "execution_count": null,
      "outputs": []
    },
    {
      "cell_type": "code",
      "metadata": {
        "colab": {
          "base_uri": "https://localhost:8080/"
        },
        "id": "Ys61UBk917xM",
        "outputId": "ca7d2053-ea11-42a3-8d8d-5e24dc84f4cd"
      },
      "source": [
        "linear_svc = SVC(kernel='linear', C=C)\r\n",
        "linear_svc.fit(X_train, y_train)"
      ],
      "execution_count": null,
      "outputs": [
        {
          "output_type": "execute_result",
          "data": {
            "text/plain": [
              "SVC(C=1, break_ties=False, cache_size=200, class_weight=None, coef0=0.0,\n",
              "    decision_function_shape='ovr', degree=3, gamma='scale', kernel='linear',\n",
              "    max_iter=-1, probability=False, random_state=None, shrinking=True,\n",
              "    tol=0.001, verbose=False)"
            ]
          },
          "metadata": {
            "tags": []
          },
          "execution_count": 182
        }
      ]
    },
    {
      "cell_type": "code",
      "metadata": {
        "id": "cru3RWhJ1_ru"
      },
      "source": [
        "pred=linear_svc.predict(X_test)"
      ],
      "execution_count": null,
      "outputs": []
    },
    {
      "cell_type": "code",
      "metadata": {
        "colab": {
          "base_uri": "https://localhost:8080/"
        },
        "id": "ZEGa602m2djZ",
        "outputId": "c5ca97a7-9a72-41c3-c1a0-3e1602d556e2"
      },
      "source": [
        "for gamma in gammas:\r\n",
        "  rbf_svc = SVC(kernel='rbf', gamma = gamma, C=C)\r\n",
        "  rbf_svc.fit(X_train, y_train)\r\n",
        "  pred=rbf_svc.predict(X_test)\r\n",
        "  \r\n",
        "  print(confusion_matrix(y_test,pred))\r\n",
        "  print(classification_report(y_test, pred))\r\n",
        "  print(\"with gamma\", gamma)\r\n",
        "  print(\"----------------------------------\")"
      ],
      "execution_count": null,
      "outputs": [
        {
          "output_type": "stream",
          "text": [
            "[[ 0  0  0  0  0  0 50  0  0  0]\n",
            " [ 0  1  0  0  0  0 50  0  0  0]\n",
            " [ 0  0  0  0  0  0 52  0  0  0]\n",
            " [ 0  0  0  0  0  0 61  0  0  0]\n",
            " [ 0  0  0  0  0  0 59  0  0  0]\n",
            " [ 0  0  0  0  0  0 56  0  0  0]\n",
            " [ 0  0  0  0  0  0 50  0  0  0]\n",
            " [ 0  0  0  0  0  0 56  0  0  0]\n",
            " [ 0  0  0  0  0  0 53  0  0  0]\n",
            " [ 0  0  0  0  0  0 52  0  0  0]]\n",
            "              precision    recall  f1-score   support\n",
            "\n",
            "           0       0.00      0.00      0.00        50\n",
            "           1       1.00      0.02      0.04        51\n",
            "           2       0.00      0.00      0.00        52\n",
            "           3       0.00      0.00      0.00        61\n",
            "           4       0.00      0.00      0.00        59\n",
            "           5       0.00      0.00      0.00        56\n",
            "           6       0.09      1.00      0.17        50\n",
            "           7       0.00      0.00      0.00        56\n",
            "           8       0.00      0.00      0.00        53\n",
            "           9       0.00      0.00      0.00        52\n",
            "\n",
            "    accuracy                           0.09       540\n",
            "   macro avg       0.11      0.10      0.02       540\n",
            "weighted avg       0.10      0.09      0.02       540\n",
            "\n",
            "with gamma 0.1\n",
            "----------------------------------\n"
          ],
          "name": "stdout"
        },
        {
          "output_type": "stream",
          "text": [
            "/usr/local/lib/python3.6/dist-packages/sklearn/metrics/_classification.py:1272: UndefinedMetricWarning: Precision and F-score are ill-defined and being set to 0.0 in labels with no predicted samples. Use `zero_division` parameter to control this behavior.\n",
            "  _warn_prf(average, modifier, msg_start, len(result))\n"
          ],
          "name": "stderr"
        },
        {
          "output_type": "stream",
          "text": [
            "[[ 0  0  0  0  0  0 50  0  0  0]\n",
            " [ 0  0  0  0  0  0 51  0  0  0]\n",
            " [ 0  0  0  0  0  0 52  0  0  0]\n",
            " [ 0  0  0  0  0  0 61  0  0  0]\n",
            " [ 0  0  0  0  0  0 59  0  0  0]\n",
            " [ 0  0  0  0  0  0 56  0  0  0]\n",
            " [ 0  0  0  0  0  0 50  0  0  0]\n",
            " [ 0  0  0  0  0  0 56  0  0  0]\n",
            " [ 0  0  0  0  0  0 53  0  0  0]\n",
            " [ 0  0  0  0  0  0 52  0  0  0]]\n",
            "              precision    recall  f1-score   support\n",
            "\n",
            "           0       0.00      0.00      0.00        50\n",
            "           1       0.00      0.00      0.00        51\n",
            "           2       0.00      0.00      0.00        52\n",
            "           3       0.00      0.00      0.00        61\n",
            "           4       0.00      0.00      0.00        59\n",
            "           5       0.00      0.00      0.00        56\n",
            "           6       0.09      1.00      0.17        50\n",
            "           7       0.00      0.00      0.00        56\n",
            "           8       0.00      0.00      0.00        53\n",
            "           9       0.00      0.00      0.00        52\n",
            "\n",
            "    accuracy                           0.09       540\n",
            "   macro avg       0.01      0.10      0.02       540\n",
            "weighted avg       0.01      0.09      0.02       540\n",
            "\n",
            "with gamma 1\n",
            "----------------------------------\n"
          ],
          "name": "stdout"
        },
        {
          "output_type": "stream",
          "text": [
            "/usr/local/lib/python3.6/dist-packages/sklearn/metrics/_classification.py:1272: UndefinedMetricWarning: Precision and F-score are ill-defined and being set to 0.0 in labels with no predicted samples. Use `zero_division` parameter to control this behavior.\n",
            "  _warn_prf(average, modifier, msg_start, len(result))\n"
          ],
          "name": "stderr"
        },
        {
          "output_type": "stream",
          "text": [
            "[[ 0  0  0  0  0  0 50  0  0  0]\n",
            " [ 0  2  0  0  0  0 49  0  0  0]\n",
            " [ 0  0  0  0  0  0 52  0  0  0]\n",
            " [ 0  0  0  0  0  0 61  0  0  0]\n",
            " [ 0  0  0  0  0  0 59  0  0  0]\n",
            " [ 0  0  0  0  0  0 56  0  0  0]\n",
            " [ 0  0  0  0  0  0 50  0  0  0]\n",
            " [ 0  0  0  0  0  0 56  0  0  0]\n",
            " [ 0  0  0  0  0  0 53  0  0  0]\n",
            " [ 0  0  0  0  0  0 52  0  0  0]]\n",
            "              precision    recall  f1-score   support\n",
            "\n",
            "           0       0.00      0.00      0.00        50\n",
            "           1       1.00      0.04      0.08        51\n",
            "           2       0.00      0.00      0.00        52\n",
            "           3       0.00      0.00      0.00        61\n",
            "           4       0.00      0.00      0.00        59\n",
            "           5       0.00      0.00      0.00        56\n",
            "           6       0.09      1.00      0.17        50\n",
            "           7       0.00      0.00      0.00        56\n",
            "           8       0.00      0.00      0.00        53\n",
            "           9       0.00      0.00      0.00        52\n",
            "\n",
            "    accuracy                           0.10       540\n",
            "   macro avg       0.11      0.10      0.02       540\n",
            "weighted avg       0.10      0.10      0.02       540\n",
            "\n",
            "with gamma 10\n",
            "----------------------------------\n"
          ],
          "name": "stdout"
        },
        {
          "output_type": "stream",
          "text": [
            "/usr/local/lib/python3.6/dist-packages/sklearn/metrics/_classification.py:1272: UndefinedMetricWarning: Precision and F-score are ill-defined and being set to 0.0 in labels with no predicted samples. Use `zero_division` parameter to control this behavior.\n",
            "  _warn_prf(average, modifier, msg_start, len(result))\n"
          ],
          "name": "stderr"
        },
        {
          "output_type": "stream",
          "text": [
            "[[ 0  0  0  0  0  0 50  0  0  0]\n",
            " [ 0  0  0  0  0  0 51  0  0  0]\n",
            " [ 0  0  0  0  0  0 52  0  0  0]\n",
            " [ 0  0  0  0  0  0 61  0  0  0]\n",
            " [ 0  0  0  0  0  0 59  0  0  0]\n",
            " [ 0  0  0  0  0  0 56  0  0  0]\n",
            " [ 0  0  0  0  0  0 50  0  0  0]\n",
            " [ 0  0  0  0  0  0 56  0  0  0]\n",
            " [ 0  0  0  0  0  0 53  0  0  0]\n",
            " [ 0  0  0  0  0  0 52  0  0  0]]\n",
            "              precision    recall  f1-score   support\n",
            "\n",
            "           0       0.00      0.00      0.00        50\n",
            "           1       0.00      0.00      0.00        51\n",
            "           2       0.00      0.00      0.00        52\n",
            "           3       0.00      0.00      0.00        61\n",
            "           4       0.00      0.00      0.00        59\n",
            "           5       0.00      0.00      0.00        56\n",
            "           6       0.09      1.00      0.17        50\n",
            "           7       0.00      0.00      0.00        56\n",
            "           8       0.00      0.00      0.00        53\n",
            "           9       0.00      0.00      0.00        52\n",
            "\n",
            "    accuracy                           0.09       540\n",
            "   macro avg       0.01      0.10      0.02       540\n",
            "weighted avg       0.01      0.09      0.02       540\n",
            "\n",
            "with gamma 100\n",
            "----------------------------------\n"
          ],
          "name": "stdout"
        },
        {
          "output_type": "stream",
          "text": [
            "/usr/local/lib/python3.6/dist-packages/sklearn/metrics/_classification.py:1272: UndefinedMetricWarning: Precision and F-score are ill-defined and being set to 0.0 in labels with no predicted samples. Use `zero_division` parameter to control this behavior.\n",
            "  _warn_prf(average, modifier, msg_start, len(result))\n"
          ],
          "name": "stderr"
        }
      ]
    },
    {
      "cell_type": "code",
      "metadata": {
        "colab": {
          "base_uri": "https://localhost:8080/"
        },
        "id": "qJulqi1URSu9",
        "outputId": "547cc4f7-325e-432b-e356-c508af3b7c0f"
      },
      "source": [
        "for gamma in gammas:\r\n",
        "  poly_svc = SVC(kernel='poly', gamma = gamma, C=C)\r\n",
        "  poly_svc.fit(X_train, y_train)\r\n",
        "  pred=poly_svc.predict(X_test)\r\n",
        "  \r\n",
        "  print(confusion_matrix(y_test,pred))\r\n",
        "  print(classification_report(y_test, pred))\r\n",
        "  print(\"with gamma\", gamma)\r\n",
        "  print(\"----------------------------------\")"
      ],
      "execution_count": null,
      "outputs": [
        {
          "output_type": "stream",
          "text": [
            "[[49  0  0  0  1  0  0  0  0  0]\n",
            " [ 0 51  0  0  0  0  0  0  0  0]\n",
            " [ 0  0 52  0  0  0  0  0  0  0]\n",
            " [ 0  0  0 61  0  0  0  0  0  0]\n",
            " [ 0  0  0  0 59  0  0  0  0  0]\n",
            " [ 0  0  0  0  0 55  0  0  0  1]\n",
            " [ 0  0  0  0  0  0 49  0  1  0]\n",
            " [ 0  0  0  0  0  0  0 56  0  0]\n",
            " [ 0  1  0  0  0  0  0  0 52  0]\n",
            " [ 0  0  0  0  0  0  0  0  0 52]]\n",
            "              precision    recall  f1-score   support\n",
            "\n",
            "           0       1.00      0.98      0.99        50\n",
            "           1       0.98      1.00      0.99        51\n",
            "           2       1.00      1.00      1.00        52\n",
            "           3       1.00      1.00      1.00        61\n",
            "           4       0.98      1.00      0.99        59\n",
            "           5       1.00      0.98      0.99        56\n",
            "           6       1.00      0.98      0.99        50\n",
            "           7       1.00      1.00      1.00        56\n",
            "           8       0.98      0.98      0.98        53\n",
            "           9       0.98      1.00      0.99        52\n",
            "\n",
            "    accuracy                           0.99       540\n",
            "   macro avg       0.99      0.99      0.99       540\n",
            "weighted avg       0.99      0.99      0.99       540\n",
            "\n",
            "with gamma 0.1\n",
            "----------------------------------\n",
            "[[49  0  0  0  1  0  0  0  0  0]\n",
            " [ 0 51  0  0  0  0  0  0  0  0]\n",
            " [ 0  0 52  0  0  0  0  0  0  0]\n",
            " [ 0  0  0 61  0  0  0  0  0  0]\n",
            " [ 0  0  0  0 59  0  0  0  0  0]\n",
            " [ 0  0  0  0  0 55  0  0  0  1]\n",
            " [ 0  0  0  0  0  0 49  0  1  0]\n",
            " [ 0  0  0  0  0  0  0 56  0  0]\n",
            " [ 0  1  0  0  0  0  0  0 52  0]\n",
            " [ 0  0  0  0  0  0  0  0  0 52]]\n",
            "              precision    recall  f1-score   support\n",
            "\n",
            "           0       1.00      0.98      0.99        50\n",
            "           1       0.98      1.00      0.99        51\n",
            "           2       1.00      1.00      1.00        52\n",
            "           3       1.00      1.00      1.00        61\n",
            "           4       0.98      1.00      0.99        59\n",
            "           5       1.00      0.98      0.99        56\n",
            "           6       1.00      0.98      0.99        50\n",
            "           7       1.00      1.00      1.00        56\n",
            "           8       0.98      0.98      0.98        53\n",
            "           9       0.98      1.00      0.99        52\n",
            "\n",
            "    accuracy                           0.99       540\n",
            "   macro avg       0.99      0.99      0.99       540\n",
            "weighted avg       0.99      0.99      0.99       540\n",
            "\n",
            "with gamma 1\n",
            "----------------------------------\n",
            "[[49  0  0  0  1  0  0  0  0  0]\n",
            " [ 0 51  0  0  0  0  0  0  0  0]\n",
            " [ 0  0 52  0  0  0  0  0  0  0]\n",
            " [ 0  0  0 61  0  0  0  0  0  0]\n",
            " [ 0  0  0  0 59  0  0  0  0  0]\n",
            " [ 0  0  0  0  0 55  0  0  0  1]\n",
            " [ 0  0  0  0  0  0 49  0  1  0]\n",
            " [ 0  0  0  0  0  0  0 56  0  0]\n",
            " [ 0  1  0  0  0  0  0  0 52  0]\n",
            " [ 0  0  0  0  0  0  0  0  0 52]]\n",
            "              precision    recall  f1-score   support\n",
            "\n",
            "           0       1.00      0.98      0.99        50\n",
            "           1       0.98      1.00      0.99        51\n",
            "           2       1.00      1.00      1.00        52\n",
            "           3       1.00      1.00      1.00        61\n",
            "           4       0.98      1.00      0.99        59\n",
            "           5       1.00      0.98      0.99        56\n",
            "           6       1.00      0.98      0.99        50\n",
            "           7       1.00      1.00      1.00        56\n",
            "           8       0.98      0.98      0.98        53\n",
            "           9       0.98      1.00      0.99        52\n",
            "\n",
            "    accuracy                           0.99       540\n",
            "   macro avg       0.99      0.99      0.99       540\n",
            "weighted avg       0.99      0.99      0.99       540\n",
            "\n",
            "with gamma 10\n",
            "----------------------------------\n",
            "[[49  0  0  0  1  0  0  0  0  0]\n",
            " [ 0 51  0  0  0  0  0  0  0  0]\n",
            " [ 0  0 52  0  0  0  0  0  0  0]\n",
            " [ 0  0  0 61  0  0  0  0  0  0]\n",
            " [ 0  0  0  0 59  0  0  0  0  0]\n",
            " [ 0  0  0  0  0 55  0  0  0  1]\n",
            " [ 0  0  0  0  0  0 49  0  1  0]\n",
            " [ 0  0  0  0  0  0  0 56  0  0]\n",
            " [ 0  1  0  0  0  0  0  0 52  0]\n",
            " [ 0  0  0  0  0  0  0  0  0 52]]\n",
            "              precision    recall  f1-score   support\n",
            "\n",
            "           0       1.00      0.98      0.99        50\n",
            "           1       0.98      1.00      0.99        51\n",
            "           2       1.00      1.00      1.00        52\n",
            "           3       1.00      1.00      1.00        61\n",
            "           4       0.98      1.00      0.99        59\n",
            "           5       1.00      0.98      0.99        56\n",
            "           6       1.00      0.98      0.99        50\n",
            "           7       1.00      1.00      1.00        56\n",
            "           8       0.98      0.98      0.98        53\n",
            "           9       0.98      1.00      0.99        52\n",
            "\n",
            "    accuracy                           0.99       540\n",
            "   macro avg       0.99      0.99      0.99       540\n",
            "weighted avg       0.99      0.99      0.99       540\n",
            "\n",
            "with gamma 100\n",
            "----------------------------------\n"
          ],
          "name": "stdout"
        }
      ]
    },
    {
      "cell_type": "code",
      "metadata": {
        "colab": {
          "base_uri": "https://localhost:8080/"
        },
        "id": "8mi4aY-8-FQ7",
        "outputId": "2ff8bb50-e3cf-44ba-9e0c-785adb1ee1ab"
      },
      "source": [
        "for gamma in gammas:\r\n",
        "  sigmoid_svc = SVC(kernel='sigmoid', gamma = gamma, C=10)\r\n",
        "  sigmoid_svc.fit(X_train, y_train)\r\n",
        "  pred=sigmoid_svc.predict(X_test)\r\n",
        "  \r\n",
        "  print(confusion_matrix(y_test,pred))\r\n",
        "  print(classification_report(y_test, pred))\r\n",
        "  print(\"with gamma\", gamma)\r\n",
        "  print(\"----------------------------------\")"
      ],
      "execution_count": null,
      "outputs": [
        {
          "output_type": "stream",
          "text": [
            "[[ 0  0  0  0  0  0 50  0  0  0]\n",
            " [ 0  0  0  0  0  0 51  0  0  0]\n",
            " [ 0  0  0  0  0  0 52  0  0  0]\n",
            " [ 0  0  0  0  0  0 61  0  0  0]\n",
            " [ 0  0  0  0  0  0 59  0  0  0]\n",
            " [ 0  0  0  0  0  0 56  0  0  0]\n",
            " [ 0  0  0  0  0  0 50  0  0  0]\n",
            " [ 0  0  0  0  0  0 56  0  0  0]\n",
            " [ 0  0  0  0  0  0 53  0  0  0]\n",
            " [ 0  0  0  0  0  0 52  0  0  0]]\n",
            "              precision    recall  f1-score   support\n",
            "\n",
            "           0       0.00      0.00      0.00        50\n",
            "           1       0.00      0.00      0.00        51\n",
            "           2       0.00      0.00      0.00        52\n",
            "           3       0.00      0.00      0.00        61\n",
            "           4       0.00      0.00      0.00        59\n",
            "           5       0.00      0.00      0.00        56\n",
            "           6       0.09      1.00      0.17        50\n",
            "           7       0.00      0.00      0.00        56\n",
            "           8       0.00      0.00      0.00        53\n",
            "           9       0.00      0.00      0.00        52\n",
            "\n",
            "    accuracy                           0.09       540\n",
            "   macro avg       0.01      0.10      0.02       540\n",
            "weighted avg       0.01      0.09      0.02       540\n",
            "\n",
            "with gamma 0.1\n",
            "----------------------------------\n"
          ],
          "name": "stdout"
        },
        {
          "output_type": "stream",
          "text": [
            "/usr/local/lib/python3.6/dist-packages/sklearn/metrics/_classification.py:1272: UndefinedMetricWarning: Precision and F-score are ill-defined and being set to 0.0 in labels with no predicted samples. Use `zero_division` parameter to control this behavior.\n",
            "  _warn_prf(average, modifier, msg_start, len(result))\n"
          ],
          "name": "stderr"
        },
        {
          "output_type": "stream",
          "text": [
            "[[ 0  0  0  0  0  0 50  0  0  0]\n",
            " [ 0  0  0  0  0  0 51  0  0  0]\n",
            " [ 0  0  0  0  0  0 52  0  0  0]\n",
            " [ 0  0  0  0  0  0 61  0  0  0]\n",
            " [ 0  0  0  0  0  0 59  0  0  0]\n",
            " [ 0  0  0  0  0  0 56  0  0  0]\n",
            " [ 0  0  0  0  0  0 50  0  0  0]\n",
            " [ 0  0  0  0  0  0 56  0  0  0]\n",
            " [ 0  0  0  0  0  0 53  0  0  0]\n",
            " [ 0  0  0  0  0  0 52  0  0  0]]\n",
            "              precision    recall  f1-score   support\n",
            "\n",
            "           0       0.00      0.00      0.00        50\n",
            "           1       0.00      0.00      0.00        51\n",
            "           2       0.00      0.00      0.00        52\n",
            "           3       0.00      0.00      0.00        61\n",
            "           4       0.00      0.00      0.00        59\n",
            "           5       0.00      0.00      0.00        56\n",
            "           6       0.09      1.00      0.17        50\n",
            "           7       0.00      0.00      0.00        56\n",
            "           8       0.00      0.00      0.00        53\n",
            "           9       0.00      0.00      0.00        52\n",
            "\n",
            "    accuracy                           0.09       540\n",
            "   macro avg       0.01      0.10      0.02       540\n",
            "weighted avg       0.01      0.09      0.02       540\n",
            "\n",
            "with gamma 1\n",
            "----------------------------------\n"
          ],
          "name": "stdout"
        },
        {
          "output_type": "stream",
          "text": [
            "/usr/local/lib/python3.6/dist-packages/sklearn/metrics/_classification.py:1272: UndefinedMetricWarning: Precision and F-score are ill-defined and being set to 0.0 in labels with no predicted samples. Use `zero_division` parameter to control this behavior.\n",
            "  _warn_prf(average, modifier, msg_start, len(result))\n"
          ],
          "name": "stderr"
        },
        {
          "output_type": "stream",
          "text": [
            "[[ 0  0  0  0  0  0 50  0  0  0]\n",
            " [ 0  0  0  0  0  0 51  0  0  0]\n",
            " [ 0  0  0  0  0  0 52  0  0  0]\n",
            " [ 0  0  0  0  0  0 61  0  0  0]\n",
            " [ 0  0  0  0  0  0 59  0  0  0]\n",
            " [ 0  0  0  0  0  0 56  0  0  0]\n",
            " [ 0  0  0  0  0  0 50  0  0  0]\n",
            " [ 0  0  0  0  0  0 56  0  0  0]\n",
            " [ 0  0  0  0  0  0 53  0  0  0]\n",
            " [ 0  0  0  0  0  0 52  0  0  0]]\n",
            "              precision    recall  f1-score   support\n",
            "\n",
            "           0       0.00      0.00      0.00        50\n",
            "           1       0.00      0.00      0.00        51\n",
            "           2       0.00      0.00      0.00        52\n",
            "           3       0.00      0.00      0.00        61\n",
            "           4       0.00      0.00      0.00        59\n",
            "           5       0.00      0.00      0.00        56\n",
            "           6       0.09      1.00      0.17        50\n",
            "           7       0.00      0.00      0.00        56\n",
            "           8       0.00      0.00      0.00        53\n",
            "           9       0.00      0.00      0.00        52\n",
            "\n",
            "    accuracy                           0.09       540\n",
            "   macro avg       0.01      0.10      0.02       540\n",
            "weighted avg       0.01      0.09      0.02       540\n",
            "\n",
            "with gamma 10\n",
            "----------------------------------\n"
          ],
          "name": "stdout"
        },
        {
          "output_type": "stream",
          "text": [
            "/usr/local/lib/python3.6/dist-packages/sklearn/metrics/_classification.py:1272: UndefinedMetricWarning: Precision and F-score are ill-defined and being set to 0.0 in labels with no predicted samples. Use `zero_division` parameter to control this behavior.\n",
            "  _warn_prf(average, modifier, msg_start, len(result))\n"
          ],
          "name": "stderr"
        },
        {
          "output_type": "stream",
          "text": [
            "[[ 0  0  0  0  0  0 50  0  0  0]\n",
            " [ 0  0  0  0  0  0 51  0  0  0]\n",
            " [ 0  0  0  0  0  0 52  0  0  0]\n",
            " [ 0  0  0  0  0  0 61  0  0  0]\n",
            " [ 0  0  0  0  0  0 59  0  0  0]\n",
            " [ 0  0  0  0  0  0 56  0  0  0]\n",
            " [ 0  0  0  0  0  0 50  0  0  0]\n",
            " [ 0  0  0  0  0  0 56  0  0  0]\n",
            " [ 0  0  0  0  0  0 53  0  0  0]\n",
            " [ 0  0  0  0  0  0 52  0  0  0]]\n",
            "              precision    recall  f1-score   support\n",
            "\n",
            "           0       0.00      0.00      0.00        50\n",
            "           1       0.00      0.00      0.00        51\n",
            "           2       0.00      0.00      0.00        52\n",
            "           3       0.00      0.00      0.00        61\n",
            "           4       0.00      0.00      0.00        59\n",
            "           5       0.00      0.00      0.00        56\n",
            "           6       0.09      1.00      0.17        50\n",
            "           7       0.00      0.00      0.00        56\n",
            "           8       0.00      0.00      0.00        53\n",
            "           9       0.00      0.00      0.00        52\n",
            "\n",
            "    accuracy                           0.09       540\n",
            "   macro avg       0.01      0.10      0.02       540\n",
            "weighted avg       0.01      0.09      0.02       540\n",
            "\n",
            "with gamma 100\n",
            "----------------------------------\n"
          ],
          "name": "stdout"
        },
        {
          "output_type": "stream",
          "text": [
            "/usr/local/lib/python3.6/dist-packages/sklearn/metrics/_classification.py:1272: UndefinedMetricWarning: Precision and F-score are ill-defined and being set to 0.0 in labels with no predicted samples. Use `zero_division` parameter to control this behavior.\n",
            "  _warn_prf(average, modifier, msg_start, len(result))\n"
          ],
          "name": "stderr"
        }
      ]
    }
  ]
}